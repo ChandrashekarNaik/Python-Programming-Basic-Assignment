{
 "cells": [
  {
   "cell_type": "markdown",
   "id": "039336e0",
   "metadata": {},
   "source": [
    "1. Write a Python Program to Find the Factorial of a Number?"
   ]
  },
  {
   "cell_type": "code",
   "execution_count": 2,
   "id": "4e64d4d6",
   "metadata": {},
   "outputs": [
    {
     "name": "stdout",
     "output_type": "stream",
     "text": [
      "Enter a number to find the factorial : 4\n",
      "Factorial of 4 is 24\n"
     ]
    }
   ],
   "source": [
    "#Factorial of a number\n",
    "num = int(input(\"Enter a number to find the factorial : \"))\n",
    "factorial = 1\n",
    "if num<0:\n",
    "    print(\"factortail does not exists for negative numbers\")\n",
    "elif num == 0:\n",
    "    print(\"factorail of zero is 1\")\n",
    "else:\n",
    "    for i in range(1, num+1):\n",
    "        factorial = factorial*i\n",
    "    print(\"Factorial of {} is {}\".format(num, factorial))"
   ]
  },
  {
   "cell_type": "markdown",
   "id": "82dad457",
   "metadata": {},
   "source": [
    "2. Write a Python Program to Display the multiplication Table?"
   ]
  },
  {
   "cell_type": "code",
   "execution_count": 4,
   "id": "eaf6f1ff",
   "metadata": {},
   "outputs": [
    {
     "name": "stdout",
     "output_type": "stream",
     "text": [
      "Enter a number to print the multiplication table :13\n",
      "13 X 1 = 13\n",
      "13 X 2 = 26\n",
      "13 X 3 = 39\n",
      "13 X 4 = 52\n",
      "13 X 5 = 65\n",
      "13 X 6 = 78\n",
      "13 X 7 = 91\n",
      "13 X 8 = 104\n",
      "13 X 9 = 117\n",
      "13 X 10 = 130\n"
     ]
    }
   ],
   "source": [
    "# Multiplication table\n",
    "\n",
    "num = int(input(\"Enter a number to print the multiplication table :\"))\n",
    "for i in range(1, 11):\n",
    "    print(\"{} X {} = {}\".format(num, i, i*num))"
   ]
  },
  {
   "cell_type": "markdown",
   "id": "4607ed82",
   "metadata": {},
   "source": [
    "3. Write a Python Program to Print the Fibonacci sequence?"
   ]
  },
  {
   "cell_type": "code",
   "execution_count": 7,
   "id": "db81065f",
   "metadata": {},
   "outputs": [
    {
     "name": "stdout",
     "output_type": "stream",
     "text": [
      "Enter a number to fine the fibonacci seq10\n",
      "Fibonacci sequence:\n",
      "0\n",
      "1\n",
      "1\n",
      "2\n",
      "3\n",
      "5\n",
      "8\n",
      "13\n",
      "21\n",
      "34\n"
     ]
    }
   ],
   "source": [
    "seq = int(input(\"Enter a number to fine the fibonacci seq\"))\n",
    "\n",
    "n1, n2 = 0, 1\n",
    "count = 0\n",
    "\n",
    "# check if the number of terms is valid\n",
    "if seq <= 0:\n",
    "    print(\"Please enter a positive integer\")\n",
    "# if there is only one term, return n1\n",
    "elif seq == 1:\n",
    "    print(\"Fibonacci sequence upto\",nterms,\":\")\n",
    "    print(n1)\n",
    "# generate fibonacci sequence\n",
    "else:\n",
    "    print(\"Fibonacci sequence:\")\n",
    "    while count < seq:\n",
    "        print(n1)\n",
    "        nth = n1 + n2\n",
    "        # update values\n",
    "        n1 = n2\n",
    "        n2 = nth\n",
    "        count += 1\n",
    "        "
   ]
  },
  {
   "cell_type": "markdown",
   "id": "eddd96b3",
   "metadata": {},
   "source": [
    "4. Write a Python Program to Check Armstrong Number?"
   ]
  },
  {
   "cell_type": "markdown",
   "id": "6b55b704",
   "metadata": {},
   "source": [
    "Armstrong number is a number that is equal to the sum of power of its digits\n",
    "- 153 = length = 3\n",
    "   - 1*1*1 = 1\n",
    "   - 5*5*5 = 125\n",
    "   - 3*3*3 = 27\n",
    "   \n",
    "   sum = 1 + 125 + 27 = 153\n",
    "   \n",
    "   num = sum"
   ]
  },
  {
   "cell_type": "code",
   "execution_count": 11,
   "id": "facd883f",
   "metadata": {},
   "outputs": [
    {
     "name": "stdout",
     "output_type": "stream",
     "text": [
      "Enter a number :407\n",
      "Number is Armstorng Number\n"
     ]
    }
   ],
   "source": [
    "num = int(input(\"Enter a number :\"))\n",
    "\n",
    "sum = 0\n",
    "temp = num\n",
    "\n",
    "power = len(str(num))\n",
    "\n",
    "while temp>0:\n",
    "    digit = temp%10\n",
    "    sum = sum+digit**power\n",
    "    temp = temp//10\n",
    "    \n",
    "if num == sum:\n",
    "    print(\"Number is Armstorng Number\")\n",
    "    \n",
    "else:\n",
    "    print(\"Number is not a Armstrong Number\")"
   ]
  },
  {
   "cell_type": "markdown",
   "id": "a54ea663",
   "metadata": {},
   "source": [
    "5. Write a Python Program to Find Armstrong Number in an Interval?"
   ]
  },
  {
   "cell_type": "code",
   "execution_count": 12,
   "id": "510abda6",
   "metadata": {},
   "outputs": [
    {
     "name": "stdout",
     "output_type": "stream",
     "text": [
      "Lower limit : 10\n",
      "Upper limit : 1000\n",
      "153\n",
      "370\n",
      "371\n",
      "407\n"
     ]
    }
   ],
   "source": [
    "## fining for a range of numbers\n",
    "low = int(input(\"Lower limit : \"))\n",
    "up = int(input(\"Upper limit : \"))\n",
    "\n",
    "\n",
    "for num in range(low,up+1):\n",
    "    power = len(str(num))\n",
    "    temp = num\n",
    "    sum = 0\n",
    "    while temp > 0:\n",
    "        digit = temp % 10\n",
    "        sum = sum + digit ** power\n",
    "        temp = temp//10\n",
    "    if num == sum :\n",
    "        print(num)"
   ]
  },
  {
   "cell_type": "markdown",
   "id": "feb44dfc",
   "metadata": {},
   "source": [
    "6. Write a Python Program to Find the Sum of Natural Numbers?"
   ]
  },
  {
   "cell_type": "code",
   "execution_count": 13,
   "id": "7a01c705",
   "metadata": {},
   "outputs": [
    {
     "name": "stdout",
     "output_type": "stream",
     "text": [
      "Enter a number to find the sum : 20\n",
      "Sum of the natural number is  210\n"
     ]
    }
   ],
   "source": [
    "num = int(input(\"Enter a number to find the sum : \"))\n",
    "\n",
    "sum = 0\n",
    "for i in range(0, num+1):\n",
    "    sum = sum+i\n",
    "print(\"Sum of the natural number is \", sum)"
   ]
  },
  {
   "cell_type": "code",
   "execution_count": null,
   "id": "2a1463a6",
   "metadata": {},
   "outputs": [],
   "source": []
  }
 ],
 "metadata": {
  "kernelspec": {
   "display_name": "Python 3",
   "language": "python",
   "name": "python3"
  },
  "language_info": {
   "codemirror_mode": {
    "name": "ipython",
    "version": 3
   },
   "file_extension": ".py",
   "mimetype": "text/x-python",
   "name": "python",
   "nbconvert_exporter": "python",
   "pygments_lexer": "ipython3",
   "version": "3.8.8"
  }
 },
 "nbformat": 4,
 "nbformat_minor": 5
}
