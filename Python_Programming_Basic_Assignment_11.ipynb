{
 "cells": [
  {
   "cell_type": "markdown",
   "id": "9162d6e4",
   "metadata": {},
   "source": [
    "1. Write a Python program to find words which are greater than given length k?"
   ]
  },
  {
   "cell_type": "code",
   "execution_count": 4,
   "id": "3109da5f",
   "metadata": {},
   "outputs": [
    {
     "name": "stdout",
     "output_type": "stream",
     "text": [
      "Enter the string :This is my first function\n",
      "Enter the length :3\n",
      "The original string 'This is my first function'\n",
      "Words which are greater than length 3\n",
      "['This', 'first', 'function']\n"
     ]
    }
   ],
   "source": [
    " def wordsgreaterthan(k, str):\n",
    "        l = []\n",
    "        txt = str.split()\n",
    "        for i in txt:\n",
    "            if len(i) > k:\n",
    "                l.append(i)\n",
    "        return l\n",
    "    \n",
    "str = input(\"Enter the string :\")\n",
    "k = int(input(\"Enter the length :\"))\n",
    "\n",
    "l = wordsgreaterthan(k, str)\n",
    "\n",
    "print(\"The original string '{}'\".format(str))\n",
    "print(\"Words which are greater than length {}\". format(k))\n",
    "print(l)\n",
    "            \n",
    "        "
   ]
  },
  {
   "cell_type": "markdown",
   "id": "c8741f7d",
   "metadata": {},
   "source": [
    "2. Write a Python program for removing i-th character from a string?"
   ]
  },
  {
   "cell_type": "code",
   "execution_count": 14,
   "id": "6866fb40",
   "metadata": {},
   "outputs": [
    {
     "name": "stdout",
     "output_type": "stream",
     "text": [
      "Enter the string : Chandrashekar\n",
      "Enter the index : 2\n"
     ]
    },
    {
     "data": {
      "text/plain": [
       "'Chndrashekar'"
      ]
     },
     "execution_count": 14,
     "metadata": {},
     "output_type": "execute_result"
    }
   ],
   "source": [
    "def remove_char(str, i):\n",
    "    for j in range(len(str)):\n",
    "        if j == i:\n",
    "            str = str.replace(str[i], \"\", 1)       \n",
    "            \n",
    "    return str\n",
    "str = input(\"Enter the string : \")\n",
    "i = int(input(\"Enter the index : \")) \n",
    "\n",
    "remove_char(str, i)"
   ]
  },
  {
   "cell_type": "markdown",
   "id": "acb26eb7",
   "metadata": {},
   "source": [
    "3. Write a Python program to split and join a string?"
   ]
  },
  {
   "cell_type": "code",
   "execution_count": 15,
   "id": "418e8b8b",
   "metadata": {},
   "outputs": [
    {
     "name": "stdout",
     "output_type": "stream",
     "text": [
      "Spliting a string :  ['this', 'is', 'a', 'string']\n"
     ]
    }
   ],
   "source": [
    "str = \"this is a string\"\n",
    "str = str.split(\" \") # str is converted to a list of strings. \n",
    "print(\"Spliting a string : \",str)"
   ]
  },
  {
   "cell_type": "code",
   "execution_count": 22,
   "id": "728b913d",
   "metadata": {},
   "outputs": [
    {
     "name": "stdout",
     "output_type": "stream",
     "text": [
      "Joining a string :  this-is-a-string\n"
     ]
    }
   ],
   "source": [
    "str2 = \"-\".join(str)\n",
    "print(\"Joining a string : \",str2)"
   ]
  },
  {
   "cell_type": "markdown",
   "id": "a7a3df27",
   "metadata": {},
   "source": [
    "4. Write a Python to check if a given string is binary string or not?"
   ]
  },
  {
   "cell_type": "code",
   "execution_count": 27,
   "id": "e8876d01",
   "metadata": {},
   "outputs": [
    {
     "name": "stdout",
     "output_type": "stream",
     "text": [
      "enter the string :010101901\n",
      "Not binary\n"
     ]
    }
   ],
   "source": [
    "def checkbin(str):\n",
    "    binary = '01'\n",
    "    for i in range(len(str)):\n",
    "        if str[i] not in binary:\n",
    "            print('Not binary')\n",
    "            break      \n",
    "    else:\n",
    "        print(\"It is a binary\")\n",
    "            \n",
    "str = input(\"enter the string :\")\n",
    "checkbin(str)\n",
    "            "
   ]
  },
  {
   "cell_type": "markdown",
   "id": "00407877",
   "metadata": {},
   "source": [
    "5. Write a Python program to find uncommon words from two Strings?"
   ]
  },
  {
   "cell_type": "code",
   "execution_count": 29,
   "id": "776382aa",
   "metadata": {},
   "outputs": [],
   "source": [
    "def uncommonwords(str1, str2):\n",
    "    list_a = str1.split()\n",
    "    list_b = str2.split()\n",
    "    \n",
    "    unCom = ''\n",
    "    \n",
    "    for i in list_a:\n",
    "        if i not in list_b:\n",
    "            unCom = unCom+ \" \" +i\n",
    "            \n",
    "    for j in list_b:\n",
    "        if j not in list_a:\n",
    "            unCom = unCom+ \" \" +j\n",
    "            \n",
    "    return unCom"
   ]
  },
  {
   "cell_type": "code",
   "execution_count": 32,
   "id": "66843d3b",
   "metadata": {},
   "outputs": [
    {
     "data": {
      "text/plain": [
       "' hello hi who are you'"
      ]
     },
     "execution_count": 32,
     "metadata": {},
     "output_type": "execute_result"
    }
   ],
   "source": [
    "uncommonwords(\"hello hi high\", \"high who are you\")"
   ]
  },
  {
   "cell_type": "markdown",
   "id": "6a9cdf9a",
   "metadata": {},
   "source": [
    "6. Write a Python to find all duplicate characters in string?"
   ]
  },
  {
   "cell_type": "code",
   "execution_count": 37,
   "id": "9e482c72",
   "metadata": {},
   "outputs": [],
   "source": [
    "def findDuplicate(str):\n",
    "    duplicate = []\n",
    "    for i in str:\n",
    "        if str.count(i)>1:\n",
    "            if i not in duplicate:\n",
    "                duplicate.append(i)\n",
    "            \n",
    "    return duplicate\n",
    "        "
   ]
  },
  {
   "cell_type": "code",
   "execution_count": 38,
   "id": "5649eae8",
   "metadata": {},
   "outputs": [
    {
     "data": {
      "text/plain": [
       "['r', 'g', 'm']"
      ]
     },
     "execution_count": 38,
     "metadata": {},
     "output_type": "execute_result"
    }
   ],
   "source": [
    "findDuplicate(\"programming\")"
   ]
  },
  {
   "cell_type": "markdown",
   "id": "95f86e8e",
   "metadata": {},
   "source": [
    "7. Write a Python Program to check if a string contains any special character?"
   ]
  },
  {
   "cell_type": "code",
   "execution_count": 39,
   "id": "c43c92f0",
   "metadata": {},
   "outputs": [
    {
     "name": "stdout",
     "output_type": "stream",
     "text": [
      "Enter the string a : iougbwaf#$#$@huisgf\n",
      "String iougbwaf#$#$@huisgf has special charecter/s : ['#', '$', '#', '$', '@']\n"
     ]
    }
   ],
   "source": [
    "import string\n",
    "\n",
    "string_char = string.punctuation\n",
    "spChar = []\n",
    "\n",
    "str = input(\"Enter the string a : \").lower()\n",
    "for i in str:\n",
    "    if i in string_char:\n",
    "        spChar.append(i)\n",
    "if len(spChar) > 0:\n",
    "    print(\"String {} has special charecter/s : {}\".format(str,spChar))"
   ]
  },
  {
   "cell_type": "code",
   "execution_count": null,
   "id": "8f7fc43b",
   "metadata": {},
   "outputs": [],
   "source": []
  }
 ],
 "metadata": {
  "kernelspec": {
   "display_name": "Python 3",
   "language": "python",
   "name": "python3"
  },
  "language_info": {
   "codemirror_mode": {
    "name": "ipython",
    "version": 3
   },
   "file_extension": ".py",
   "mimetype": "text/x-python",
   "name": "python",
   "nbconvert_exporter": "python",
   "pygments_lexer": "ipython3",
   "version": "3.8.8"
  }
 },
 "nbformat": 4,
 "nbformat_minor": 5
}
