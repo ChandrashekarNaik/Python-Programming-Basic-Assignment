{
 "cells": [
  {
   "cell_type": "markdown",
   "id": "ad85213b",
   "metadata": {},
   "source": [
    "1. Write a Python program to convert kilometers to miles?"
   ]
  },
  {
   "cell_type": "code",
   "execution_count": 2,
   "id": "561ad774",
   "metadata": {},
   "outputs": [
    {
     "name": "stdout",
     "output_type": "stream",
     "text": [
      "Enter value in kilometers: 20\n",
      "20.000 kilometers is equal to 12.427 miles\n"
     ]
    }
   ],
   "source": [
    "# Taking kilometers input from the user\n",
    "kilometers = float(input(\"Enter value in kilometers: \"))\n",
    "\n",
    "# conversion factor\n",
    "conv_fac = 0.621371\n",
    "\n",
    "miles = kilometers*conv_fac\n",
    "\n",
    "print(\"%0.3f kilometers is equal to %0.3f miles\"%(kilometers,miles))\n"
   ]
  },
  {
   "cell_type": "markdown",
   "id": "844044c8",
   "metadata": {},
   "source": [
    "2. Write a Python program to convert Celsius to Fahrenheit?"
   ]
  },
  {
   "cell_type": "code",
   "execution_count": 5,
   "id": "d7c71602",
   "metadata": {},
   "outputs": [
    {
     "name": "stdout",
     "output_type": "stream",
     "text": [
      "Enter the temperature in Celsius47\n",
      "47.00 celsius is 116.60 farhrenheit \n"
     ]
    }
   ],
   "source": [
    "Celsius = float(input(\"Enter the temperature in Celsius\"))\n",
    "\n",
    "fahrenheit = (9/5)*Celsius + 32\n",
    "\n",
    "print(\"%0.2f celsius is %0.2f farhrenheit \"%(Celsius, fahrenheit))"
   ]
  },
  {
   "cell_type": "markdown",
   "id": "6a893b78",
   "metadata": {},
   "source": [
    "3. Write a Python program to display calendar?"
   ]
  },
  {
   "cell_type": "code",
   "execution_count": 7,
   "id": "0135e78e",
   "metadata": {},
   "outputs": [
    {
     "name": "stdout",
     "output_type": "stream",
     "text": [
      " Enter Year : 2021\n",
      "Enter Month : 4\n",
      "Calender\n",
      "     April 2021\n",
      "Mo Tu We Th Fr Sa Su\n",
      "          1  2  3  4\n",
      " 5  6  7  8  9 10 11\n",
      "12 13 14 15 16 17 18\n",
      "19 20 21 22 23 24 25\n",
      "26 27 28 29 30\n",
      "\n"
     ]
    }
   ],
   "source": [
    "import calendar\n",
    "\n",
    "y = int(input(\" Enter Year : \"))\n",
    "m = int(input(\"Enter Month : \"))\n",
    "\n",
    "try :\n",
    "    print(\"Calender\")\n",
    "    print(calendar.month(y,m))\n",
    "except:\n",
    "    print(\"Out of range\")"
   ]
  },
  {
   "cell_type": "code",
   "execution_count": 8,
   "id": "a59967bd",
   "metadata": {},
   "outputs": [
    {
     "name": "stdout",
     "output_type": "stream",
     "text": [
      " Enter Year : 2002\n",
      "Enter Month : 4\n",
      "Calender\n",
      "     April 2002\n",
      "Mo Tu We Th Fr Sa Su\n",
      " 1  2  3  4  5  6  7\n",
      " 8  9 10 11 12 13 14\n",
      "15 16 17 18 19 20 21\n",
      "22 23 24 25 26 27 28\n",
      "29 30\n",
      "\n"
     ]
    }
   ],
   "source": [
    "import calendar\n",
    "\n",
    "y = int(input(\" Enter Year : \"))\n",
    "m = int(input(\"Enter Month : \"))\n",
    "print(\"Calender\")\n",
    "print(calendar.month(y,m))"
   ]
  },
  {
   "cell_type": "markdown",
   "id": "f8abb75e",
   "metadata": {},
   "source": [
    "4. Write a Python program to solve quadratic equation?"
   ]
  },
  {
   "cell_type": "markdown",
   "id": "36b7f2b7",
   "metadata": {},
   "source": [
    "- quadratic equation ax**2 + bx + c\n",
    "- descriminant = b**2 - (4* a * c)\n",
    "- x = (-b-sqrt(d))/2 , x = (b-sqrt(d))/2"
   ]
  },
  {
   "cell_type": "code",
   "execution_count": 18,
   "id": "af9748bd",
   "metadata": {},
   "outputs": [
    {
     "name": "stdout",
     "output_type": "stream",
     "text": [
      "Descriminant :  12\n",
      "-3.732050807568877\n",
      "-2.267949192431123\n"
     ]
    }
   ],
   "source": [
    "import math\n",
    "a = 1\n",
    "b = 4\n",
    "c = 1\n",
    "\n",
    "d = b**2 - (4*a*c)\n",
    "print(\"Descriminant : \",d)\n",
    "\n",
    "sol1 = (-b - math.sqrt(d))/(2*a)\n",
    "sol2 = (-b + (math.sqrt(d))/(2*a))\n",
    "\n",
    "print(sol1)\n",
    "print(sol2)"
   ]
  },
  {
   "cell_type": "code",
   "execution_count": 9,
   "id": "3fdd1b45",
   "metadata": {},
   "outputs": [
    {
     "name": "stdout",
     "output_type": "stream",
     "text": [
      "The roots are\n",
      "(-3.414213562373095+0j)\n",
      "(-0.5857864376269049+0j)\n"
     ]
    }
   ],
   "source": [
    "# import complex math module\n",
    "import cmath\n",
    "  \n",
    "a = 1\n",
    "b = 4\n",
    "c = 2\n",
    "  \n",
    "# calculating  the discriminant\n",
    "dis = (b**2) - (4 * a*c)\n",
    "  \n",
    "# find two results\n",
    "ans1 = (-b-cmath.sqrt(dis))/(2 * a)\n",
    "ans2 = (-b + cmath.sqrt(dis))/(2 * a)\n",
    "  \n",
    "# printing the results\n",
    "print('The roots are')\n",
    "print(ans1)\n",
    "print(ans2)"
   ]
  },
  {
   "cell_type": "markdown",
   "id": "d83b41f9",
   "metadata": {},
   "source": [
    "5. Write a Python program to swap two variables without temp variable?"
   ]
  },
  {
   "cell_type": "code",
   "execution_count": 19,
   "id": "bfe628b7",
   "metadata": {},
   "outputs": [
    {
     "name": "stdout",
     "output_type": "stream",
     "text": [
      "After swaping a = 20, b = 10\n"
     ]
    }
   ],
   "source": [
    "a = 10\n",
    "b = 20\n",
    "\n",
    "a,b = b,a\n",
    "\n",
    "print(\"After swaping a = {}, b = {}\".format(a,b))"
   ]
  },
  {
   "cell_type": "code",
   "execution_count": null,
   "id": "d341103e",
   "metadata": {},
   "outputs": [],
   "source": []
  }
 ],
 "metadata": {
  "kernelspec": {
   "display_name": "Python 3",
   "language": "python",
   "name": "python3"
  },
  "language_info": {
   "codemirror_mode": {
    "name": "ipython",
    "version": 3
   },
   "file_extension": ".py",
   "mimetype": "text/x-python",
   "name": "python",
   "nbconvert_exporter": "python",
   "pygments_lexer": "ipython3",
   "version": "3.8.8"
  }
 },
 "nbformat": 4,
 "nbformat_minor": 5
}
