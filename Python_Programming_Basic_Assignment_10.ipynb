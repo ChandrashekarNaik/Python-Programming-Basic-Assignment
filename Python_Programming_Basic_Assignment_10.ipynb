{
 "cells": [
  {
   "cell_type": "markdown",
   "id": "89024bfc",
   "metadata": {},
   "source": [
    "1. Write a Python program to find sum of elements in list?"
   ]
  },
  {
   "cell_type": "code",
   "execution_count": 11,
   "id": "a787226c",
   "metadata": {},
   "outputs": [
    {
     "name": "stdout",
     "output_type": "stream",
     "text": [
      "sum of the lst is 15\n"
     ]
    }
   ],
   "source": [
    "lst = [1,2,3,4,5]\n",
    "sum = 0\n",
    "for i in lst:\n",
    "    sum = sum +i\n",
    "print(\"sum of the lst is\", sum)"
   ]
  },
  {
   "cell_type": "code",
   "execution_count": 5,
   "id": "de816e91",
   "metadata": {},
   "outputs": [
    {
     "name": "stdout",
     "output_type": "stream",
     "text": [
      "Enter the lenth of your list : 5\n",
      "1\n",
      "2\n",
      "34\n",
      "4\n",
      "5\n",
      "The List is  [1, 2, 34, 4, 5]\n",
      "Sum of elements in List 46\n"
     ]
    }
   ],
   "source": [
    "n = int(input(\"Enter the lenth of your list : \"))\n",
    "lst = []\n",
    "\n",
    "for i in range(n):\n",
    "    lst.append(int(input()))\n",
    "print(\"The List is \",lst)\n",
    "print(\"Sum of elements in List\",sum(lst))"
   ]
  },
  {
   "cell_type": "markdown",
   "id": "9db848f2",
   "metadata": {},
   "source": [
    "2. Write a Python program to Multiply all numbers in the list?"
   ]
  },
  {
   "cell_type": "code",
   "execution_count": 15,
   "id": "bda5500a",
   "metadata": {},
   "outputs": [
    {
     "name": "stdout",
     "output_type": "stream",
     "text": [
      "Enter the lenth of your list : 5\n",
      "1\n",
      "2\n",
      "3\n",
      "4\n",
      "5\n",
      "The List is  [1, 2, 3, 4, 5]\n",
      "Product of elements in List is : 120\n"
     ]
    }
   ],
   "source": [
    "n = int(input(\"Enter the lenth of your list : \"))\n",
    "lst = []\n",
    "\n",
    "for i in range(n):\n",
    "    lst.append(int(input()))\n",
    "print(\"The List is \",lst)\n",
    "product = 1\n",
    "for ele in lst:\n",
    "    product = product*ele\n",
    "print(\"Product of elements in List is :\",product)\n"
   ]
  },
  {
   "cell_type": "markdown",
   "id": "6e7142e1",
   "metadata": {},
   "source": [
    "3. Write a Python program to find smallest number in a list?"
   ]
  },
  {
   "cell_type": "code",
   "execution_count": 29,
   "id": "965a2f77",
   "metadata": {},
   "outputs": [
    {
     "name": "stdout",
     "output_type": "stream",
     "text": [
      "Enter the length of the list :4\n",
      "6\n",
      "3\n",
      "5\n",
      "4\n",
      "The list is  [6, 3, 5, 4]\n",
      "The smallest element in the list is  3\n"
     ]
    }
   ],
   "source": [
    "n = int(input(\"Enter the length of the list :\"))\n",
    "lst = []\n",
    "\n",
    "for i in range(n):\n",
    "    lst.append(int(input()))\n",
    "print(\"The list is \", lst)\n",
    "\n",
    "smallest = lst[0]\n",
    "for ele in range(len(lst)):\n",
    "    if lst[ele]<smallest:\n",
    "        smallest = lst[ele]\n",
    "print(\"The smallest element in the list is \",smallest)\n",
    "    "
   ]
  },
  {
   "cell_type": "code",
   "execution_count": 30,
   "id": "3f3432b1",
   "metadata": {},
   "outputs": [
    {
     "name": "stdout",
     "output_type": "stream",
     "text": [
      "Enter the lenth of your list : 5\n",
      "3\n",
      "5\n",
      "6\n",
      "3\n",
      "2\n",
      "The List is  [3, 5, 6, 3, 2]\n",
      "The Smallest element in the list is : 2\n"
     ]
    }
   ],
   "source": [
    "n = int(input(\"Enter the lenth of your list : \"))\n",
    "lst = []\n",
    "\n",
    "for i in range(n):\n",
    "    lst.append(int(input()))\n",
    "print(\"The List is \",lst)\n",
    "print(\"The Smallest element in the list is :\",min(lst))"
   ]
  },
  {
   "cell_type": "markdown",
   "id": "4035c5ef",
   "metadata": {},
   "source": [
    "4. Write a Python program to find largest number in a list?"
   ]
  },
  {
   "cell_type": "code",
   "execution_count": 33,
   "id": "53c0db88",
   "metadata": {},
   "outputs": [
    {
     "name": "stdout",
     "output_type": "stream",
     "text": [
      "Enter the length of the list :5\n",
      "3\n",
      "7\n",
      "4\n",
      "8\n",
      "9\n",
      "The list is  [3, 7, 4, 8, 9]\n",
      "The smallest element in the list is  9\n"
     ]
    }
   ],
   "source": [
    "n = int(input(\"Enter the length of the list :\"))\n",
    "lst = []\n",
    "\n",
    "for i in range(n):\n",
    "    lst.append(int(input()))\n",
    "print(\"The list is \", lst)\n",
    "\n",
    "largest = lst[0]\n",
    "for ele in range(len(lst)):\n",
    "    if lst[ele]>largest:\n",
    "        largest = lst[ele]\n",
    "print(\"The smallest element in the list is \",largest)"
   ]
  },
  {
   "cell_type": "code",
   "execution_count": 34,
   "id": "d07ab49d",
   "metadata": {},
   "outputs": [
    {
     "name": "stdout",
     "output_type": "stream",
     "text": [
      "Enter the lenth of your list : 3\n",
      "8\n",
      "4\n",
      "6\n",
      "The List is  [8, 4, 6]\n",
      "The largest element in the list is : 8\n"
     ]
    }
   ],
   "source": [
    "n = int(input(\"Enter the lenth of your list : \"))\n",
    "lst = []\n",
    "\n",
    "for i in range(n):\n",
    "    lst.append(int(input()))\n",
    "print(\"The List is \",lst)\n",
    "print(\"The largest element in the list is :\",max(lst))"
   ]
  },
  {
   "cell_type": "markdown",
   "id": "29ac8f6d",
   "metadata": {},
   "source": [
    "5. Write a Python program to find second largest number in a list?"
   ]
  },
  {
   "cell_type": "code",
   "execution_count": 38,
   "id": "da58cbcc",
   "metadata": {},
   "outputs": [
    {
     "name": "stdout",
     "output_type": "stream",
     "text": [
      "Enter the lenth of your list : 5\n",
      "6\n",
      "3\n",
      "8\n",
      "1\n",
      "7\n",
      "The List is  [6, 3, 8, 1, 7]\n",
      "The sorted list is  [1, 3, 6, 7, 8]\n",
      "The second largest element in the list is  3\n"
     ]
    }
   ],
   "source": [
    "n = int(input(\"Enter the lenth of your list : \"))\n",
    "lst = []\n",
    "\n",
    "for i in range(n):\n",
    "    lst.append(int(input()))\n",
    "print(\"The List is \",lst)\n",
    "lst.sort()\n",
    "print(\"The sorted list is \", lst)\n",
    "print(\"The second largest element in the list is \",lst[1])\n"
   ]
  },
  {
   "cell_type": "markdown",
   "id": "37e05405",
   "metadata": {},
   "source": [
    "6. Write a Python program to find N largest elements from a list?"
   ]
  },
  {
   "cell_type": "code",
   "execution_count": 39,
   "id": "d3eb54ef",
   "metadata": {},
   "outputs": [
    {
     "name": "stdout",
     "output_type": "stream",
     "text": [
      "Enter the lenth of your list : 4\n",
      "2\n",
      "8\n",
      "4\n",
      "1\n",
      "The List is  [2, 8, 4, 1]\n",
      "The sorted list is  [1, 2, 4, 8]\n",
      "Enter how many largest number u want to see in from the list :2\n",
      "2 largest elements from the list are : [4, 8]\n"
     ]
    }
   ],
   "source": [
    "n = int(input(\"Enter the lenth of your list : \"))\n",
    "lst = []\n",
    "\n",
    "for i in range(n):\n",
    "    lst.append(int(input()))\n",
    "print(\"The List is \",lst)\n",
    "lst.sort()\n",
    "print(\"The sorted list is \",lst)\n",
    "\n",
    "nlargest = int(input(\"Enter how many largest number u want to see in from the list :\"))\n",
    "\n",
    "if n<nlargest:\n",
    "    print(\"enterted value is larger then that list length\")\n",
    "    \n",
    "else:\n",
    "    print(nlargest,\"largest elements from the list are :\",lst[(n-nlargest):])"
   ]
  },
  {
   "cell_type": "markdown",
   "id": "5ab2bef1",
   "metadata": {},
   "source": [
    "7. Write a Python program to print even numbers in a list?"
   ]
  },
  {
   "cell_type": "code",
   "execution_count": 40,
   "id": "56a69dbc",
   "metadata": {},
   "outputs": [
    {
     "name": "stdout",
     "output_type": "stream",
     "text": [
      "Enter the lenth of your list : 8\n",
      "2\n",
      "3\n",
      "4\n",
      "5\n",
      "6\n",
      "7\n",
      "8\n",
      "9\n",
      "The List is  [2, 3, 4, 5, 6, 7, 8, 9]\n",
      "The even numbers in the list are : [2, 4, 6, 8]\n"
     ]
    }
   ],
   "source": [
    "n = int(input(\"Enter the lenth of your list : \"))\n",
    "lst = []\n",
    "\n",
    "for i in range(n):\n",
    "    lst.append(int(input()))\n",
    "print(\"The List is \",lst)\n",
    "evenlist =[]\n",
    "\n",
    "for i in lst:\n",
    "    if i % 2 == 0:\n",
    "        evenlist.append(i)\n",
    "print(\"The even numbers in the list are :\",evenlist)\n"
   ]
  },
  {
   "cell_type": "markdown",
   "id": "4e874c8e",
   "metadata": {},
   "source": [
    "8. Write a Python program to print odd numbers in a List?"
   ]
  },
  {
   "cell_type": "code",
   "execution_count": null,
   "id": "f6492293",
   "metadata": {},
   "outputs": [],
   "source": [
    "n = int(input(\"Enter the lenth of your list : \"))\n",
    "lst = []\n",
    "\n",
    "for i in range(n):\n",
    "    lst.append(int(input()))\n",
    "print(\"The List is \",lst)\n",
    "oddlist =[]\n",
    "\n",
    "for i in lst:\n",
    "    if i % 2 != 0:\n",
    "        oddlist.append(i)\n",
    "print(\"The even numbers in the list are :\",oddlist)\n"
   ]
  },
  {
   "cell_type": "markdown",
   "id": "12c8cc88",
   "metadata": {},
   "source": [
    "9. Write a Python program to Remove empty List from List?"
   ]
  },
  {
   "cell_type": "code",
   "execution_count": 45,
   "id": "6f648200",
   "metadata": {},
   "outputs": [
    {
     "name": "stdout",
     "output_type": "stream",
     "text": [
      "The List : [2, [], 4, 5, [], 6, 8, [], 3]\n",
      "The list after removing empty lists\n",
      "[2, 4, 5, 6, 8, 3]\n"
     ]
    }
   ],
   "source": [
    "lst = [2,[],4,5,[],6,8,[],3]\n",
    "print(\"The List :\",lst)\n",
    "removedlist = [ele for ele in lst if ele != []]\n",
    "print(\"The list after removing empty lists\")\n",
    "print(removedlist)"
   ]
  },
  {
   "cell_type": "markdown",
   "id": "9258db67",
   "metadata": {},
   "source": [
    "10. Write a Python program to Cloning or Copying a list?"
   ]
  },
  {
   "cell_type": "code",
   "execution_count": 46,
   "id": "53f6f233",
   "metadata": {},
   "outputs": [
    {
     "name": "stdout",
     "output_type": "stream",
     "text": [
      "Enter the lenth of your list : 5\n",
      "1\n",
      "2\n",
      "3\n",
      "4\n",
      "5\n",
      "The List is  [1, 2, 3, 4, 5]\n",
      "The cloned/copied list :\n",
      "Cloning By list slicing lst[:]  [1, 2, 3, 4, 5]\n",
      "Cloning By list copying lst.copy()  [1, 2, 3, 4, 5]\n",
      "Cloning By list Comprahention  [1, 2, 3, 4, 5]\n",
      "Cloning By list append  [1, 2, 3, 4, 5]\n"
     ]
    }
   ],
   "source": [
    "n = int(input(\"Enter the lenth of your list : \"))\n",
    "lst = []\n",
    "\n",
    "for i in range(n):\n",
    "    lst.append(int(input()))\n",
    "print(\"The List is \",lst)\n",
    "\n",
    "print(\"The cloned/copied list :\")\n",
    "\n",
    "#Method 1\n",
    "lstcopy = lst[:]\n",
    "print(\"Cloning By list slicing lst[:] \",lstcopy)\n",
    "\n",
    "#method2\n",
    "lst2 = lst.copy()\n",
    "print(\"Cloning By list copying lst.copy() \",lst2)\n",
    "\n",
    "\n",
    "#Method3\n",
    "lstcomprah = [i for i in lst]\n",
    "print(\"Cloning By list Comprahention \",lstcomprah)\n",
    "\n",
    "\n",
    "#method4\n",
    "lstappend=[]\n",
    "for i in lst : lstappend.append(i)\n",
    "print(\"Cloning By list append \",lstappend)"
   ]
  },
  {
   "cell_type": "markdown",
   "id": "2a0b8e8c",
   "metadata": {},
   "source": [
    "11. Write a Python program to Count occurrences of an element in a list?"
   ]
  },
  {
   "cell_type": "code",
   "execution_count": 47,
   "id": "14d272c1",
   "metadata": {},
   "outputs": [
    {
     "name": "stdout",
     "output_type": "stream",
     "text": [
      "Enter the lenth of your list : 4\n",
      "4\n",
      "4\n",
      "3\n",
      "3\n",
      "The List is  [4, 4, 3, 3]\n",
      "Enter the element to find its occurance : 4\n",
      "4 has occured 2 times in the list \n"
     ]
    }
   ],
   "source": [
    "n = int(input(\"Enter the lenth of your list : \"))\n",
    "lst = []\n",
    "\n",
    "for i in range(n):\n",
    "    lst.append(int(input()))\n",
    "print(\"The List is \",lst)\n",
    "ele= int(input(\"Enter the element to find its occurance : \"))\n",
    "print(ele,\"has occured {} times in the list \".format(lst.count(ele)))"
   ]
  },
  {
   "cell_type": "code",
   "execution_count": null,
   "id": "c6da3a3b",
   "metadata": {},
   "outputs": [],
   "source": []
  }
 ],
 "metadata": {
  "kernelspec": {
   "display_name": "Python 3",
   "language": "python",
   "name": "python3"
  },
  "language_info": {
   "codemirror_mode": {
    "name": "ipython",
    "version": 3
   },
   "file_extension": ".py",
   "mimetype": "text/x-python",
   "name": "python",
   "nbconvert_exporter": "python",
   "pygments_lexer": "ipython3",
   "version": "3.8.8"
  }
 },
 "nbformat": 4,
 "nbformat_minor": 5
}
